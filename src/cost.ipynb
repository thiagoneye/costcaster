{
 "cells": [
  {
   "cell_type": "markdown",
   "id": "eb5e2a46",
   "metadata": {},
   "source": [
    "# Capital Cost of Compression"
   ]
  },
  {
   "cell_type": "markdown",
   "id": "dcdce1ae",
   "metadata": {},
   "source": [
    "### Imports"
   ]
  },
  {
   "cell_type": "code",
   "execution_count": 1,
   "id": "b801f2ac",
   "metadata": {},
   "outputs": [],
   "source": [
    "import pandas as pd\n",
    "import numpy as np\n",
    "import matplotlib.pyplot as plt\n",
    "\n",
    "import requests\n",
    "from io import BytesIO"
   ]
  },
  {
   "cell_type": "markdown",
   "id": "6c38937a",
   "metadata": {},
   "source": [
    "### Auxiliary Functions"
   ]
  },
  {
   "cell_type": "code",
   "execution_count": null,
   "id": "4d013e88",
   "metadata": {},
   "outputs": [],
   "source": [
    "def compression_power_stage(cp, m, r, t_in, M, eta_is, cr, z):\n",
    "    \"\"\"\n",
    "    Compression Power Requirement (for each stage).\n",
    "    \"\"\"\n",
    "\n",
    "    # Relationship between Specific Heat (Coefficient of Adiabatic Expansion, i.e., Cp/Cv)\n",
    "    k = cp / z\n",
    "\n",
    "    w_stage = (\n",
    "        (1000 / (24 * 3600))\n",
    "        * (m * z * r * t_in / (M * eta_is))\n",
    "        * (k / (k - 1))\n",
    "        * (cr ** (((k - 1) / k)) - 1)\n",
    "    )\n",
    "\n",
    "    return w_stage\n",
    "\n",
    "def power_requeriment(df):\n",
    "    return df"
   ]
  },
  {
   "cell_type": "markdown",
   "id": "ff8c31ef",
   "metadata": {},
   "source": [
    "### Data Reading"
   ]
  },
  {
   "cell_type": "code",
   "execution_count": 3,
   "id": "fc5b0da6",
   "metadata": {},
   "outputs": [
    {
     "data": {
      "application/vnd.microsoft.datawrangler.viewer.v0+json": {
       "columns": [
        {
         "name": "index",
         "rawType": "int64",
         "type": "integer"
        },
        {
         "name": "Years",
         "rawType": "int64",
         "type": "integer"
        },
        {
         "name": "A-1 - BAU",
         "rawType": "float64",
         "type": "float"
        },
        {
         "name": "A-1 - DBM",
         "rawType": "float64",
         "type": "float"
        },
        {
         "name": "A-1 - GBM",
         "rawType": "float64",
         "type": "float"
        },
        {
         "name": "C-1 - BAU",
         "rawType": "float64",
         "type": "float"
        },
        {
         "name": "C-1 - DBM",
         "rawType": "float64",
         "type": "float"
        },
        {
         "name": "C-1 - GBM",
         "rawType": "float64",
         "type": "float"
        },
        {
         "name": "C-2 - BAU",
         "rawType": "float64",
         "type": "float"
        },
        {
         "name": "C-2 - DBM",
         "rawType": "float64",
         "type": "float"
        },
        {
         "name": "C-2 - GBM",
         "rawType": "float64",
         "type": "float"
        },
        {
         "name": "P-1 - BAU",
         "rawType": "float64",
         "type": "float"
        },
        {
         "name": "P-1 - DBM",
         "rawType": "float64",
         "type": "float"
        },
        {
         "name": "P-1 - GBM",
         "rawType": "float64",
         "type": "float"
        },
        {
         "name": "S-1 - BAU",
         "rawType": "float64",
         "type": "float"
        },
        {
         "name": "S-1 - DBM",
         "rawType": "float64",
         "type": "float"
        },
        {
         "name": "S-1 - GBM",
         "rawType": "float64",
         "type": "float"
        },
        {
         "name": "S-2 - BAU",
         "rawType": "float64",
         "type": "float"
        },
        {
         "name": "S-2 - DBM",
         "rawType": "float64",
         "type": "float"
        },
        {
         "name": "S-2 - GBM",
         "rawType": "float64",
         "type": "float"
        }
       ],
       "ref": "eb03c0e0-7952-4c1b-b0f1-66a97144e22c",
       "rows": [
        [
         "0",
         "2025",
         "1.341908",
         "1.252184658665981",
         "1.320980197941484",
         "1.57930603",
         "1.519019850666217",
         "1.554675873546904",
         "13.51342822",
         "13.34097468148977",
         "13.30267878641727",
         "2.28398765",
         "2.074743225780077",
         "2.248367591513654",
         "23.63286533",
         "18.06026072397819",
         "23.26429764301862",
         "8.940516039999999",
         "9.801580517232598",
         "8.801083716781037"
        ],
        [
         "1",
         "2026",
         "1.341908",
         "1.242492403356769",
         "1.300378776602808",
         "1.57930603",
         "1.51973003296967",
         "1.530429838090866",
         "13.51342822",
         "13.31789439806255",
         "13.09521610753753",
         "2.28398765",
         "1.921092988970094",
         "2.213303047662674",
         "23.63286533",
         "17.75677236092646",
         "22.90147797423096",
         "8.940516039999999",
         "9.772826204364655",
         "8.663825918239539"
        ],
        [
         "2",
         "2027",
         "1.341908",
         "1.239475496514343",
         "1.280098645895011",
         "1.57930603",
         "1.519924657480658",
         "1.506561933051167",
         "13.51342822",
         "13.31761809348079",
         "12.89098892459202",
         "2.28398765",
         "1.776351195750547",
         "2.178785354887166",
         "23.63286533",
         "17.54063369508084",
         "22.54431668009442",
         "8.940516039999999",
         "9.788235121203588",
         "8.528708731452992"
        ],
        [
         "3",
         "2028",
         "1.341908",
         "1.238880071095579",
         "1.260134795111898",
         "1.57930603",
         "1.519972279865771",
         "1.483066261273526",
         "13.51342822",
         "13.31951880711756",
         "12.68994677822104",
         "2.28398765",
         "1.657053206192781",
         "2.144805984740276",
         "23.63286533",
         "17.44846866723403",
         "22.19272551510731",
         "8.940516039999999",
         "9.823698499845452",
         "8.395698772389787"
        ],
        [
         "4",
         "2029",
         "1.341908",
         "1.238802736244889",
         "1.240482291692028",
         "1.57930603",
         "1.519982634666197",
         "1.459937017573067",
         "13.51342822",
         "13.31937617878207",
         "12.49203999600667",
         "2.28398765",
         "1.569027716121235",
         "2.111356541781023",
         "23.63286533",
         "17.42302375334566",
         "21.84661761000566",
         "8.940516039999999",
         "9.856964276615619",
         "8.264763177660862"
        ],
        [
         "5",
         "2030",
         "1.341908",
         "1.238796014260476",
         "1.22113628",
         "1.57930603",
         "1.519984614831255",
         "1.4371684873",
         "13.51342822",
         "13.31868339085185",
         "12.2972196802",
         "2.28398765",
         "1.510201066689185",
         "2.0784287615",
         "23.63286533",
         "17.41834002766063",
         "21.5059074503",
         "8.940516039999999",
         "9.878515706163213",
         "8.1358695964"
        ]
       ],
       "shape": {
        "columns": 19,
        "rows": 6
       }
      },
      "text/html": [
       "<div>\n",
       "<style scoped>\n",
       "    .dataframe tbody tr th:only-of-type {\n",
       "        vertical-align: middle;\n",
       "    }\n",
       "\n",
       "    .dataframe tbody tr th {\n",
       "        vertical-align: top;\n",
       "    }\n",
       "\n",
       "    .dataframe thead th {\n",
       "        text-align: right;\n",
       "    }\n",
       "</style>\n",
       "<table border=\"1\" class=\"dataframe\">\n",
       "  <thead>\n",
       "    <tr style=\"text-align: right;\">\n",
       "      <th></th>\n",
       "      <th>Years</th>\n",
       "      <th>A-1 - BAU</th>\n",
       "      <th>A-1 - DBM</th>\n",
       "      <th>A-1 - GBM</th>\n",
       "      <th>C-1 - BAU</th>\n",
       "      <th>C-1 - DBM</th>\n",
       "      <th>C-1 - GBM</th>\n",
       "      <th>C-2 - BAU</th>\n",
       "      <th>C-2 - DBM</th>\n",
       "      <th>C-2 - GBM</th>\n",
       "      <th>P-1 - BAU</th>\n",
       "      <th>P-1 - DBM</th>\n",
       "      <th>P-1 - GBM</th>\n",
       "      <th>S-1 - BAU</th>\n",
       "      <th>S-1 - DBM</th>\n",
       "      <th>S-1 - GBM</th>\n",
       "      <th>S-2 - BAU</th>\n",
       "      <th>S-2 - DBM</th>\n",
       "      <th>S-2 - GBM</th>\n",
       "    </tr>\n",
       "  </thead>\n",
       "  <tbody>\n",
       "    <tr>\n",
       "      <th>0</th>\n",
       "      <td>2025</td>\n",
       "      <td>1.341908</td>\n",
       "      <td>1.252185</td>\n",
       "      <td>1.320980</td>\n",
       "      <td>1.579306</td>\n",
       "      <td>1.519020</td>\n",
       "      <td>1.554676</td>\n",
       "      <td>13.513428</td>\n",
       "      <td>13.340975</td>\n",
       "      <td>13.302679</td>\n",
       "      <td>2.283988</td>\n",
       "      <td>2.074743</td>\n",
       "      <td>2.248368</td>\n",
       "      <td>23.632865</td>\n",
       "      <td>18.060261</td>\n",
       "      <td>23.264298</td>\n",
       "      <td>8.940516</td>\n",
       "      <td>9.801581</td>\n",
       "      <td>8.801084</td>\n",
       "    </tr>\n",
       "    <tr>\n",
       "      <th>1</th>\n",
       "      <td>2026</td>\n",
       "      <td>1.341908</td>\n",
       "      <td>1.242492</td>\n",
       "      <td>1.300379</td>\n",
       "      <td>1.579306</td>\n",
       "      <td>1.519730</td>\n",
       "      <td>1.530430</td>\n",
       "      <td>13.513428</td>\n",
       "      <td>13.317894</td>\n",
       "      <td>13.095216</td>\n",
       "      <td>2.283988</td>\n",
       "      <td>1.921093</td>\n",
       "      <td>2.213303</td>\n",
       "      <td>23.632865</td>\n",
       "      <td>17.756772</td>\n",
       "      <td>22.901478</td>\n",
       "      <td>8.940516</td>\n",
       "      <td>9.772826</td>\n",
       "      <td>8.663826</td>\n",
       "    </tr>\n",
       "    <tr>\n",
       "      <th>2</th>\n",
       "      <td>2027</td>\n",
       "      <td>1.341908</td>\n",
       "      <td>1.239475</td>\n",
       "      <td>1.280099</td>\n",
       "      <td>1.579306</td>\n",
       "      <td>1.519925</td>\n",
       "      <td>1.506562</td>\n",
       "      <td>13.513428</td>\n",
       "      <td>13.317618</td>\n",
       "      <td>12.890989</td>\n",
       "      <td>2.283988</td>\n",
       "      <td>1.776351</td>\n",
       "      <td>2.178785</td>\n",
       "      <td>23.632865</td>\n",
       "      <td>17.540634</td>\n",
       "      <td>22.544317</td>\n",
       "      <td>8.940516</td>\n",
       "      <td>9.788235</td>\n",
       "      <td>8.528709</td>\n",
       "    </tr>\n",
       "    <tr>\n",
       "      <th>3</th>\n",
       "      <td>2028</td>\n",
       "      <td>1.341908</td>\n",
       "      <td>1.238880</td>\n",
       "      <td>1.260135</td>\n",
       "      <td>1.579306</td>\n",
       "      <td>1.519972</td>\n",
       "      <td>1.483066</td>\n",
       "      <td>13.513428</td>\n",
       "      <td>13.319519</td>\n",
       "      <td>12.689947</td>\n",
       "      <td>2.283988</td>\n",
       "      <td>1.657053</td>\n",
       "      <td>2.144806</td>\n",
       "      <td>23.632865</td>\n",
       "      <td>17.448469</td>\n",
       "      <td>22.192726</td>\n",
       "      <td>8.940516</td>\n",
       "      <td>9.823698</td>\n",
       "      <td>8.395699</td>\n",
       "    </tr>\n",
       "    <tr>\n",
       "      <th>4</th>\n",
       "      <td>2029</td>\n",
       "      <td>1.341908</td>\n",
       "      <td>1.238803</td>\n",
       "      <td>1.240482</td>\n",
       "      <td>1.579306</td>\n",
       "      <td>1.519983</td>\n",
       "      <td>1.459937</td>\n",
       "      <td>13.513428</td>\n",
       "      <td>13.319376</td>\n",
       "      <td>12.492040</td>\n",
       "      <td>2.283988</td>\n",
       "      <td>1.569028</td>\n",
       "      <td>2.111357</td>\n",
       "      <td>23.632865</td>\n",
       "      <td>17.423024</td>\n",
       "      <td>21.846618</td>\n",
       "      <td>8.940516</td>\n",
       "      <td>9.856964</td>\n",
       "      <td>8.264763</td>\n",
       "    </tr>\n",
       "    <tr>\n",
       "      <th>5</th>\n",
       "      <td>2030</td>\n",
       "      <td>1.341908</td>\n",
       "      <td>1.238796</td>\n",
       "      <td>1.221136</td>\n",
       "      <td>1.579306</td>\n",
       "      <td>1.519985</td>\n",
       "      <td>1.437168</td>\n",
       "      <td>13.513428</td>\n",
       "      <td>13.318683</td>\n",
       "      <td>12.297220</td>\n",
       "      <td>2.283988</td>\n",
       "      <td>1.510201</td>\n",
       "      <td>2.078429</td>\n",
       "      <td>23.632865</td>\n",
       "      <td>17.418340</td>\n",
       "      <td>21.505907</td>\n",
       "      <td>8.940516</td>\n",
       "      <td>9.878516</td>\n",
       "      <td>8.135870</td>\n",
       "    </tr>\n",
       "  </tbody>\n",
       "</table>\n",
       "</div>"
      ],
      "text/plain": [
       "   Years  A-1 - BAU  A-1 - DBM  A-1 - GBM  C-1 - BAU  C-1 - DBM  C-1 - GBM  \\\n",
       "0   2025   1.341908   1.252185   1.320980   1.579306   1.519020   1.554676   \n",
       "1   2026   1.341908   1.242492   1.300379   1.579306   1.519730   1.530430   \n",
       "2   2027   1.341908   1.239475   1.280099   1.579306   1.519925   1.506562   \n",
       "3   2028   1.341908   1.238880   1.260135   1.579306   1.519972   1.483066   \n",
       "4   2029   1.341908   1.238803   1.240482   1.579306   1.519983   1.459937   \n",
       "5   2030   1.341908   1.238796   1.221136   1.579306   1.519985   1.437168   \n",
       "\n",
       "   C-2 - BAU  C-2 - DBM  C-2 - GBM  P-1 - BAU  P-1 - DBM  P-1 - GBM  \\\n",
       "0  13.513428  13.340975  13.302679   2.283988   2.074743   2.248368   \n",
       "1  13.513428  13.317894  13.095216   2.283988   1.921093   2.213303   \n",
       "2  13.513428  13.317618  12.890989   2.283988   1.776351   2.178785   \n",
       "3  13.513428  13.319519  12.689947   2.283988   1.657053   2.144806   \n",
       "4  13.513428  13.319376  12.492040   2.283988   1.569028   2.111357   \n",
       "5  13.513428  13.318683  12.297220   2.283988   1.510201   2.078429   \n",
       "\n",
       "   S-1 - BAU  S-1 - DBM  S-1 - GBM  S-2 - BAU  S-2 - DBM  S-2 - GBM  \n",
       "0  23.632865  18.060261  23.264298   8.940516   9.801581   8.801084  \n",
       "1  23.632865  17.756772  22.901478   8.940516   9.772826   8.663826  \n",
       "2  23.632865  17.540634  22.544317   8.940516   9.788235   8.528709  \n",
       "3  23.632865  17.448469  22.192726   8.940516   9.823698   8.395699  \n",
       "4  23.632865  17.423024  21.846618   8.940516   9.856964   8.264763  \n",
       "5  23.632865  17.418340  21.505907   8.940516   9.878516   8.135870  "
      ]
     },
     "metadata": {},
     "output_type": "display_data"
    }
   ],
   "source": [
    "URL = \"https://raw.githubusercontent.com/thiagoneye/costcaster/main/data/Forecast%20(MtCO2e).xlsx\"\n",
    "response = requests.get(URL)\n",
    "df = pd.read_excel(BytesIO(response.content), engine=\"openpyxl\")\n",
    "\n",
    "df.drop(columns=\"Unnamed: 0\", inplace=True)\n",
    "display(df)"
   ]
  },
  {
   "cell_type": "code",
   "execution_count": 4,
   "id": "438d56b0",
   "metadata": {},
   "outputs": [],
   "source": [
    "# Variables\n",
    "\n",
    "p_initial = 0.1  # MPa\n",
    "p_final = 15  # MPa\n",
    "p_cutoff = 7.38  # MPa\n",
    "n_stage = 4\n",
    "M = 44.01  # kg/kmol\n",
    "r = 8.314  # [kJ/kmol*K]\n",
    "t_in = 313.15  # K\n",
    "eta_is = 0.82\n",
    "m = 25000\n",
    "rho = 630\n",
    "np = 0.75\n",
    "dt = 356  # Temperature Variation During Compression\n",
    "\n",
    "cv = (13.946 + (5.981e-2 * dt) - (3.501e-5 * dt**2) + (7.469e-9 * dt**3)) / 44.01\n",
    "cp = (22.26 + (5.981e-2 * dt) - (3.501e-5 * dt**2) + (7.469e-9 * dt**3)) / (44.01 * cv)\n",
    "\n",
    "# Compression Power Requirement (for each stage)\n",
    "\n",
    "cr = (p_cutoff / p_initial) ** (1 / n_stage)\n",
    "\n",
    "w_stage1 = compression_power_stage(cp, m, r, t_in, M, eta_is, cr, z=0.995)\n",
    "w_stage2 = compression_power_stage(cp, m, r, t_in, M, eta_is, cr, z=0.986)\n",
    "w_stage3 = compression_power_stage(cp, m, r, t_in, M, eta_is, cr, z=0.959)\n",
    "w_stage4 = compression_power_stage(cp, m, r, t_in, M, eta_is, cr, z=0.875)"
   ]
  },
  {
   "cell_type": "markdown",
   "id": "79e851d2",
   "metadata": {},
   "source": [
    "### Analysis"
   ]
  },
  {
   "cell_type": "code",
   "execution_count": 5,
   "id": "922912df",
   "metadata": {},
   "outputs": [],
   "source": [
    "# Convertion to tCO2e\n",
    "\n",
    "df.loc[:, df.columns != \"Years\"] = df.loc[:, df.columns != \"Years\"] * 1e6 # type: ignore\n",
    "\n",
    "# Carbon Capture Percentage\n",
    "\n",
    "df.loc[:, df.columns != \"Years\"] = df.loc[:, df.columns != \"Years\"] * 0.76 # type: ignore\n"
   ]
  },
  {
   "cell_type": "markdown",
   "id": "801aad09",
   "metadata": {},
   "source": [
    "### Power Requirement"
   ]
  },
  {
   "cell_type": "code",
   "execution_count": 6,
   "id": "d4b87c19",
   "metadata": {},
   "outputs": [],
   "source": [
    "# Power Requirement [kW]\n",
    "\n",
    "# Plot"
   ]
  },
  {
   "cell_type": "markdown",
   "id": "024d7f21",
   "metadata": {},
   "source": [
    "### Capital Cost of Compression"
   ]
  },
  {
   "cell_type": "code",
   "execution_count": 7,
   "id": "53e3def3",
   "metadata": {},
   "outputs": [],
   "source": [
    "# Capital Cost of Compression ($)\n",
    "\n",
    "# Capital Cost of Compression ($/kW)\n",
    "\n",
    "# Plot"
   ]
  },
  {
   "cell_type": "markdown",
   "id": "b5352374",
   "metadata": {},
   "source": [
    "### Annual Compression Capital Cost"
   ]
  },
  {
   "cell_type": "code",
   "execution_count": 8,
   "id": "3b47937d",
   "metadata": {},
   "outputs": [],
   "source": [
    "# Annual Compression Capital Cost ($)\n",
    "\n",
    "# Total Annual Compression Cost ($)\n",
    "\n",
    "# Plot"
   ]
  }
 ],
 "metadata": {
  "kernelspec": {
   "display_name": "base",
   "language": "python",
   "name": "python3"
  },
  "language_info": {
   "codemirror_mode": {
    "name": "ipython",
    "version": 3
   },
   "file_extension": ".py",
   "mimetype": "text/x-python",
   "name": "python",
   "nbconvert_exporter": "python",
   "pygments_lexer": "ipython3",
   "version": "3.13.5"
  }
 },
 "nbformat": 4,
 "nbformat_minor": 5
}
